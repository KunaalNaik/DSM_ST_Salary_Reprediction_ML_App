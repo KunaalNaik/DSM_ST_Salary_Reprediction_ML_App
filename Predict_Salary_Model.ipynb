{
 "cells": [
  {
   "cell_type": "markdown",
   "id": "634d5708-0db8-4b88-840e-7716778b724c",
   "metadata": {},
   "source": [
    "## 1/ Import Libraries"
   ]
  },
  {
   "cell_type": "code",
   "execution_count": 18,
   "id": "b460a14f-68d5-462c-aee0-2525b16dae24",
   "metadata": {},
   "outputs": [],
   "source": [
    "import pandas as pd\n",
    "from sklearn import linear_model\n",
    "import joblib"
   ]
  },
  {
   "cell_type": "markdown",
   "id": "7dfd3ed0-c661-4179-ae67-1850e1688f60",
   "metadata": {},
   "source": [
    "## 2/ Import Data"
   ]
  },
  {
   "cell_type": "code",
   "execution_count": 4,
   "id": "e06547a3-90dd-4e9c-a244-6080c0fa2c77",
   "metadata": {},
   "outputs": [],
   "source": [
    "train = pd.read_csv('input/train.csv')"
   ]
  },
  {
   "cell_type": "code",
   "execution_count": 5,
   "id": "9cb89e96-6bcf-4554-937f-26fedb8f8ced",
   "metadata": {},
   "outputs": [
    {
     "data": {
      "text/html": [
       "<div>\n",
       "<style scoped>\n",
       "    .dataframe tbody tr th:only-of-type {\n",
       "        vertical-align: middle;\n",
       "    }\n",
       "\n",
       "    .dataframe tbody tr th {\n",
       "        vertical-align: top;\n",
       "    }\n",
       "\n",
       "    .dataframe thead th {\n",
       "        text-align: right;\n",
       "    }\n",
       "</style>\n",
       "<table border=\"1\" class=\"dataframe\">\n",
       "  <thead>\n",
       "    <tr style=\"text-align: right;\">\n",
       "      <th></th>\n",
       "      <th>y_Salary</th>\n",
       "      <th>x1_Experience</th>\n",
       "      <th>x2_Skills</th>\n",
       "    </tr>\n",
       "  </thead>\n",
       "  <tbody>\n",
       "    <tr>\n",
       "      <th>0</th>\n",
       "      <td>3</td>\n",
       "      <td>0.9</td>\n",
       "      <td>1</td>\n",
       "    </tr>\n",
       "    <tr>\n",
       "      <th>1</th>\n",
       "      <td>4</td>\n",
       "      <td>1.3</td>\n",
       "      <td>3</td>\n",
       "    </tr>\n",
       "    <tr>\n",
       "      <th>2</th>\n",
       "      <td>5</td>\n",
       "      <td>2.4</td>\n",
       "      <td>4</td>\n",
       "    </tr>\n",
       "    <tr>\n",
       "      <th>3</th>\n",
       "      <td>6</td>\n",
       "      <td>2.7</td>\n",
       "      <td>4</td>\n",
       "    </tr>\n",
       "    <tr>\n",
       "      <th>4</th>\n",
       "      <td>7</td>\n",
       "      <td>2.9</td>\n",
       "      <td>5</td>\n",
       "    </tr>\n",
       "    <tr>\n",
       "      <th>5</th>\n",
       "      <td>8</td>\n",
       "      <td>4.0</td>\n",
       "      <td>6</td>\n",
       "    </tr>\n",
       "    <tr>\n",
       "      <th>6</th>\n",
       "      <td>9</td>\n",
       "      <td>4.7</td>\n",
       "      <td>7</td>\n",
       "    </tr>\n",
       "    <tr>\n",
       "      <th>7</th>\n",
       "      <td>10</td>\n",
       "      <td>5.0</td>\n",
       "      <td>8</td>\n",
       "    </tr>\n",
       "    <tr>\n",
       "      <th>8</th>\n",
       "      <td>11</td>\n",
       "      <td>5.2</td>\n",
       "      <td>8</td>\n",
       "    </tr>\n",
       "  </tbody>\n",
       "</table>\n",
       "</div>"
      ],
      "text/plain": [
       "   y_Salary  x1_Experience  x2_Skills\n",
       "0         3            0.9          1\n",
       "1         4            1.3          3\n",
       "2         5            2.4          4\n",
       "3         6            2.7          4\n",
       "4         7            2.9          5\n",
       "5         8            4.0          6\n",
       "6         9            4.7          7\n",
       "7        10            5.0          8\n",
       "8        11            5.2          8"
      ]
     },
     "execution_count": 5,
     "metadata": {},
     "output_type": "execute_result"
    }
   ],
   "source": [
    "train"
   ]
  },
  {
   "cell_type": "markdown",
   "id": "6454ec79-e67e-4b3e-b5fd-7bd84b1d8c5f",
   "metadata": {},
   "source": [
    "## 3/ Build Model"
   ]
  },
  {
   "cell_type": "code",
   "execution_count": 7,
   "id": "76e878b6-c2a1-4bf4-81eb-1582aa025559",
   "metadata": {},
   "outputs": [],
   "source": [
    "reg = linear_model.LinearRegression()"
   ]
  },
  {
   "cell_type": "code",
   "execution_count": 8,
   "id": "8f561417-9548-4806-9c6f-5bb7542e6c61",
   "metadata": {},
   "outputs": [],
   "source": [
    "y = train['y_Salary']"
   ]
  },
  {
   "cell_type": "code",
   "execution_count": 10,
   "id": "3c9d6514-d9ae-4a9b-b102-ee7fce00c09f",
   "metadata": {},
   "outputs": [],
   "source": [
    "X = train[['x1_Experience', 'x2_Skills']]"
   ]
  },
  {
   "cell_type": "code",
   "execution_count": 12,
   "id": "1a914df9-9c2b-453e-bcc4-709bafae6a96",
   "metadata": {},
   "outputs": [
    {
     "data": {
      "text/plain": [
       "LinearRegression()"
      ]
     },
     "execution_count": 12,
     "metadata": {},
     "output_type": "execute_result"
    }
   ],
   "source": [
    "reg.fit(X, y)"
   ]
  },
  {
   "cell_type": "code",
   "execution_count": 21,
   "id": "b28a69af-ca32-47e8-baa7-4860d8127d71",
   "metadata": {},
   "outputs": [
    {
     "name": "stdout",
     "output_type": "stream",
     "text": [
      "Coefficients: \n",
      " [1.09855335 0.41500904]\n",
      "Intercept: \n",
      " 1.326853526220619\n"
     ]
    }
   ],
   "source": [
    "# The coefficients\n",
    "print(\"Coefficients: \\n\", reg.coef_)\n",
    "print(\"Intercept: \\n\", reg.intercept_)"
   ]
  },
  {
   "cell_type": "markdown",
   "id": "f1edeb09-fb4c-4bf7-ab71-beed44dd2063",
   "metadata": {},
   "source": [
    "## 4/ Export/Dump Model"
   ]
  },
  {
   "cell_type": "code",
   "execution_count": 20,
   "id": "daf604a6-638f-4301-9ea5-c84f48239f0a",
   "metadata": {},
   "outputs": [
    {
     "data": {
      "text/plain": [
       "['model/predict_salary.pkl']"
      ]
     },
     "execution_count": 20,
     "metadata": {},
     "output_type": "execute_result"
    }
   ],
   "source": [
    "joblib.dump(reg, 'model/predict_salary.pkl')"
   ]
  },
  {
   "cell_type": "markdown",
   "id": "9ffa0cb5-7c05-4827-9076-9b383ac56d35",
   "metadata": {},
   "source": [
    "## 5/ Sample Predict"
   ]
  },
  {
   "cell_type": "code",
   "execution_count": 27,
   "id": "8d41e093-56ba-4623-ae12-7d0765e68c41",
   "metadata": {},
   "outputs": [],
   "source": [
    "user_input = pd.DataFrame({\n",
    "    'x1_Experience' : [2.4],\n",
    "    'x2_Skills' : [4]\n",
    "})"
   ]
  },
  {
   "cell_type": "code",
   "execution_count": 28,
   "id": "905e05df-943a-466d-8d39-ed78e139135d",
   "metadata": {},
   "outputs": [
    {
     "data": {
      "text/plain": [
       "array([5.62341772])"
      ]
     },
     "execution_count": 28,
     "metadata": {},
     "output_type": "execute_result"
    }
   ],
   "source": [
    "reg.predict(user_input)"
   ]
  },
  {
   "cell_type": "markdown",
   "id": "0ee96973-57a0-4257-a952-d327187aa6dc",
   "metadata": {},
   "source": [
    "## 6/ Load Model"
   ]
  },
  {
   "cell_type": "code",
   "execution_count": 29,
   "id": "f70a9379-169b-4ef9-a4d9-9a917a101d9f",
   "metadata": {},
   "outputs": [],
   "source": [
    "model_reg_imported = joblib.load('model/predict_salary.pkl')"
   ]
  },
  {
   "cell_type": "code",
   "execution_count": 31,
   "id": "9b183d68-1596-4c74-9166-393776558be6",
   "metadata": {},
   "outputs": [
    {
     "data": {
      "text/plain": [
       "5.623417721518988"
      ]
     },
     "execution_count": 31,
     "metadata": {},
     "output_type": "execute_result"
    }
   ],
   "source": [
    "model_reg_imported.predict(user_input)[0]"
   ]
  },
  {
   "cell_type": "code",
   "execution_count": null,
   "id": "051905f2-e473-49e3-8927-3dc6345acdfd",
   "metadata": {},
   "outputs": [],
   "source": []
  }
 ],
 "metadata": {
  "kernelspec": {
   "display_name": "Python 3",
   "language": "python",
   "name": "python3"
  },
  "language_info": {
   "codemirror_mode": {
    "name": "ipython",
    "version": 3
   },
   "file_extension": ".py",
   "mimetype": "text/x-python",
   "name": "python",
   "nbconvert_exporter": "python",
   "pygments_lexer": "ipython3",
   "version": "3.8.8"
  }
 },
 "nbformat": 4,
 "nbformat_minor": 5
}
